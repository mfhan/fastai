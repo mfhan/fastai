{
 "cells": [
  {
   "cell_type": "code",
   "execution_count": 47,
   "id": "72af3d6b-d0af-4f35-8ef9-9744793a29c8",
   "metadata": {},
   "outputs": [],
   "source": [
    "import os\n",
    "from openai import OpenAI\n",
    "from dotenv import load_dotenv\n",
    "from openai import ChatCompletion,Completion"
   ]
  },
  {
   "cell_type": "code",
   "execution_count": 48,
   "id": "652ecdaf-3f84-46b3-87cd-61b9e26f9ab0",
   "metadata": {},
   "outputs": [],
   "source": [
    "from fastcore.utils import nested_idx"
   ]
  },
  {
   "cell_type": "code",
   "execution_count": 50,
   "id": "d181cee0-81f5-4bd0-8f9e-5afacaf7347a",
   "metadata": {},
   "outputs": [],
   "source": [
    "from pydantic import create_model\n",
    "import tokenize, ast\n",
    "from io import BytesIO\n",
    "import inspect, json\n",
    "from inspect import Parameter\n",
    "import tokenize, ast\n",
    "from io import BytesIO\n"
   ]
  },
  {
   "cell_type": "code",
   "execution_count": 51,
   "id": "75ea7c34-c0b9-4d2a-9a1c-4686f758d573",
   "metadata": {},
   "outputs": [],
   "source": [
    "from tiktoken import encoding_for_model"
   ]
  },
  {
   "cell_type": "code",
   "execution_count": 52,
   "id": "825a2c63-84c9-4b00-93e7-f0bd815e9786",
   "metadata": {},
   "outputs": [
    {
     "data": {
      "text/plain": [
       "[7009, 527, 12786, 19587]"
      ]
     },
     "execution_count": 52,
     "metadata": {},
     "output_type": "execute_result"
    }
   ],
   "source": [
    "enc = encoding_for_model(\"gpt-3.5-turbo-instruct\")\n",
    "toks = enc.encode(\"They are splashing\")\n",
    "toks"
   ]
  },
  {
   "cell_type": "code",
   "execution_count": 53,
   "id": "b6ca8a0b-fd44-4d80-bc47-b5574fc759f7",
   "metadata": {},
   "outputs": [
    {
     "data": {
      "text/plain": [
       "['They', ' are', ' spl', 'ashing']"
      ]
     },
     "execution_count": 53,
     "metadata": {},
     "output_type": "execute_result"
    }
   ],
   "source": [
    "[enc.decode_single_token_bytes(o).decode('utf-8') for o in toks]"
   ]
  },
  {
   "cell_type": "code",
   "execution_count": 2,
   "id": "63563dbe-0a8f-40f3-92b3-f5e6cb7eb193",
   "metadata": {},
   "outputs": [],
   "source": [
    "def sums(a:int, b:int=1):\n",
    "    \"Adds a + b\"\n",
    "    return a + b"
   ]
  },
  {
   "cell_type": "code",
   "execution_count": 3,
   "id": "059cc9ef-fd29-44f4-9c5b-35b6b4892f5a",
   "metadata": {},
   "outputs": [],
   "source": [
    "def schema(f):\n",
    "    kw = {n:(o.annotation, ... if o.default==Parameter.empty else o.default)\n",
    "          for n,o in inspect.signature(f).parameters.items()}\n",
    "    s = create_model(f'Input for `{f.__name__}`', **kw).schema()\n",
    "    return dict(name=f.__name__, description=f.__doc__, parameters=s)"
   ]
  },
  {
   "cell_type": "code",
   "execution_count": 4,
   "id": "29588efa-0a9b-4539-b214-8d090b6b5b72",
   "metadata": {},
   "outputs": [
    {
     "data": {
      "text/plain": [
       "{'name': 'sums',\n",
       " 'description': 'Adds a + b',\n",
       " 'parameters': {'title': 'Input for `sums`',\n",
       "  'type': 'object',\n",
       "  'properties': {'a': {'title': 'A', 'type': 'integer'},\n",
       "   'b': {'title': 'B', 'default': 1, 'type': 'integer'}},\n",
       "  'required': ['a']}}"
      ]
     },
     "execution_count": 4,
     "metadata": {},
     "output_type": "execute_result"
    }
   ],
   "source": [
    "schema(sums)"
   ]
  },
  {
   "cell_type": "code",
   "execution_count": 23,
   "id": "060f66dd-ebe3-4407-aba5-1352ee722d96",
   "metadata": {},
   "outputs": [],
   "source": [
    "# coder_sys = \"You are an experienced software engineer with experience teaching students in a patient and engaging way, using concrete example as often as possible. You strive to keep your answers simple and short.\"\n",
    "# question=\"What is Google Vertex AI?\"\n",
    "# c = ChatCompletion.create(\n",
    "#     model=\"gpt-4\",\n",
    "#     messages=[{\"role\": \"system\", \"content\": coder_sys},\n",
    "#               {\"role\": \"user\", \"content\": question}])"
   ]
  },
  {
   "cell_type": "code",
   "execution_count": 38,
   "id": "5d44e901-3a53-40d9-a1fe-b57062f8cae8",
   "metadata": {
    "scrolled": true
   },
   "outputs": [
    {
     "name": "stdout",
     "output_type": "stream",
     "text": [
      "ChatCompletion(id='chatcmpl-99fi5VBxTMXPeaYDL5S2HlvBvTdwZ', choices=[Choice(finish_reason='stop', index=0, logprobs=None, message=ChatCompletionMessage(content='Google Vertex AI is a unified platform provided by Google Cloud for machine learning development. It offers tools for the entire machine learning workflow, from dataset management to model training, prediction and explainability. This allows data scientists and machine learning engineers to easily create, test, deploy and scale AI models. Using Vertex AI, you can manage all your resources in one place and streamline the ML process.', role='assistant', function_call=None, tool_calls=None))], created=1712092313, model='gpt-4-0613', object='chat.completion', system_fingerprint=None, usage=CompletionUsage(completion_tokens=77, prompt_tokens=52, total_tokens=129))\n"
     ]
    }
   ],
   "source": [
    "from dotenv import load_dotenv\n",
    "import os\n",
    "import openai\n",
    "\n",
    "load_dotenv()\n",
    "\n",
    "client = OpenAI(\n",
    "  api_key=os.environ['OPENAI_API_KEY']\n",
    ")\n",
    "\n",
    "coder = \"You are an experienced software engineer with experience teaching students in a patient and engaging way, using concrete example as often as possible. You strive to keep your answers simple and short.\"\n",
    "\n",
    "question=\"What is Google Vertex AI?\"\n",
    "\n",
    "\n",
    "c= client.chat.completions.create(\n",
    "    model=\"gpt-4\",\n",
    "    messages=[\n",
    "        {\"role\": \"system\", \"content\": coder},\n",
    "        {\"role\": \"user\", \"content\": question}\n",
    "    ]\n",
    ")\n",
    "\n",
    "print(c)\n",
    "# response = c['choices'][0]['message']['content']"
   ]
  },
  {
   "cell_type": "code",
   "execution_count": 55,
   "id": "1fdd22de-e5e8-4982-8c3a-91fcf546e7d7",
   "metadata": {},
   "outputs": [],
   "source": [
    "#NOT WORKING: \n",
    "#message_content = response.choices[0].message.content"
   ]
  },
  {
   "cell_type": "code",
   "execution_count": 39,
   "id": "ab6a98c8-0c1a-4c48-9b77-6cbdb1318e4b",
   "metadata": {},
   "outputs": [],
   "source": [
    "# def response(compl): print(nested_idx(compl, 'choices', 0, 'message', 'content'))\n",
    "# response(c)   "
   ]
  },
  {
   "cell_type": "code",
   "execution_count": 56,
   "id": "ca3492e2-d645-49da-a55e-639e2a3cd078",
   "metadata": {},
   "outputs": [
    {
     "name": "stdout",
     "output_type": "stream",
     "text": [
      "ChatCompletion(id='chatcmpl-99fupgCfDccfG9DDB0N4Iu04pnKgQ', choices=[Choice(finish_reason='stop', index=0, logprobs=None, message=ChatCompletionMessage(content=\"Google Vertex AI is a managed machine learning platform that allows developers and data scientists to build, deploy, and scale AI models more efficiently. It offers a set of tools for the entire ML workflow, including data preparation, model training, model deployment, and predictions. It's like an all-in-one toolbox for those who work with AI, simplifying the process and saving time.\", role='assistant', function_call=None, tool_calls=None))], created=1712093103, model='gpt-4-0613', object='chat.completion', system_fingerprint=None, usage=CompletionUsage(completion_tokens=75, prompt_tokens=52, total_tokens=127))\n",
      "Google Vertex AI is a managed machine learning platform that allows developers and data scientists to build, deploy, and scale AI models more efficiently. It offers a set of tools for the entire ML workflow, including data preparation, model training, model deployment, and predictions. It's like an all-in-one toolbox for those who work with AI, simplifying the process and saving time.\n"
     ]
    }
   ],
   "source": [
    "from dotenv import load_dotenv\n",
    "import os\n",
    "import openai\n",
    "\n",
    "load_dotenv()\n",
    "\n",
    "client = OpenAI(\n",
    "  api_key=os.environ['OPENAI_API_KEY']\n",
    ")\n",
    "\n",
    "coder = \"You are an experienced software engineer with experience teaching students in a patient and engaging way, using concrete example as often as possible. You strive to keep your answers simple and short.\"\n",
    "\n",
    "question=\"What is Google Vertex AI?\"\n",
    "\n",
    "c = client.chat.completions.create(\n",
    "    model=\"gpt-4\",\n",
    "    messages=[\n",
    "        {\"role\": \"system\", \"content\": coder},\n",
    "        {\"role\": \"user\", \"content\": question}\n",
    "    ]\n",
    ")\n",
    "\n",
    "print(c)\n",
    "\n",
    "try:\n",
    "    # Accessing the 'choices' list and then the first item's 'message' attribute\n",
    "    # Finally, getting the 'content' of the message\n",
    "    response_content = c.choices[0].message.content\n",
    "except AttributeError as e:\n",
    "    # If there's an error accessing the attributes, it will be caught here\n",
    "    print(f\"An error occurred: {e}\")\n",
    "\n",
    "print(response_content)"
   ]
  },
  {
   "cell_type": "code",
   "execution_count": 57,
   "id": "53dd2957-94e9-481a-b8f7-7f6d0e6634a8",
   "metadata": {},
   "outputs": [
    {
     "name": "stdout",
     "output_type": "stream",
     "text": [
      "CompletionUsage(completion_tokens=75, prompt_tokens=52, total_tokens=127)\n"
     ]
    }
   ],
   "source": [
    "print(c.usage)"
   ]
  },
  {
   "cell_type": "code",
   "execution_count": 58,
   "id": "559983f3-d97b-4988-ae4f-fe3f2c9d32a6",
   "metadata": {},
   "outputs": [
    {
     "data": {
      "text/plain": [
       "0.0003"
      ]
     },
     "execution_count": 58,
     "metadata": {},
     "output_type": "execute_result"
    }
   ],
   "source": [
    "0.002 / 1000 * 150"
   ]
  },
  {
   "cell_type": "code",
   "execution_count": 59,
   "id": "81126143-eda5-4769-b054-e66563a4bf19",
   "metadata": {},
   "outputs": [
    {
     "data": {
      "text/plain": [
       "0.0045"
      ]
     },
     "execution_count": 59,
     "metadata": {},
     "output_type": "execute_result"
    }
   ],
   "source": [
    "0.03 / 1000 * 150"
   ]
  },
  {
   "cell_type": "code",
   "execution_count": null,
   "id": "3c62cff0-3e6c-4207-a43a-d75b2b870785",
   "metadata": {},
   "outputs": [],
   "source": []
  },
  {
   "cell_type": "code",
   "execution_count": 60,
   "id": "35f141c8-07bc-48bc-8524-695aa6e6e1d3",
   "metadata": {},
   "outputs": [],
   "source": [
    "def askgpt(user, system=None, model=\"gpt-4\", **kwargs):\n",
    "    msgs = []\n",
    "    if system: msgs.append({\"role\": \"system\", \"content\": system})\n",
    "    msgs.append({\"role\": \"user\", \"content\": user})\n",
    "    return client.chat.completions.create(model=model, messages=msgs, **kwargs)"
   ]
  },
  {
   "cell_type": "code",
   "execution_count": 63,
   "id": "34a53657-e0b5-49a3-98ee-d654c0bab135",
   "metadata": {
    "scrolled": true
   },
   "outputs": [
    {
     "data": {
      "text/plain": [
       "ChatCompletion(id='chatcmpl-99g7rdqeJHaOFRseyyI2i4XhJfJXb', choices=[Choice(finish_reason='stop', index=0, logprobs=None, message=ChatCompletionMessage(content='Recursion in programming refers to a method where a function calls itself as a subroutine. This allows the function to be repeated several times, as it can call itself during its execution. An easy example can be a countdown function, which counts down to zero from a given number by calling itself with a reduced number, until it reaches zero.', role='assistant', function_call=None, tool_calls=None))], created=1712093911, model='gpt-4-0613', object='chat.completion', system_fingerprint=None, usage=CompletionUsage(completion_tokens=67, prompt_tokens=53, total_tokens=120))"
      ]
     },
     "execution_count": 63,
     "metadata": {},
     "output_type": "execute_result"
    }
   ],
   "source": [
    "askgpt('What is the meaning of recursion?', system=coder)"
   ]
  },
  {
   "cell_type": "code",
   "execution_count": 65,
   "id": "85f73454-2005-4455-a0b1-aa0a786e5eac",
   "metadata": {},
   "outputs": [
    {
     "data": {
      "text/plain": [
       "openai.types.chat.chat_completion.ChatCompletion"
      ]
     },
     "execution_count": 65,
     "metadata": {},
     "output_type": "execute_result"
    }
   ],
   "source": [
    "type(askgpt('What is the meaning of recursion?', system=coder))"
   ]
  },
  {
   "cell_type": "code",
   "execution_count": 72,
   "id": "533f3272-8911-42fe-9ccb-9ab847afbb0f",
   "metadata": {},
   "outputs": [
    {
     "data": {
      "text/plain": [
       "ChatCompletionMessage(content=\"Google Vertex AI is a managed machine learning platform that allows developers and data scientists to build, deploy, and scale AI models more efficiently. It offers a set of tools for the entire ML workflow, including data preparation, model training, model deployment, and predictions. It's like an all-in-one toolbox for those who work with AI, simplifying the process and saving time.\", role='assistant', function_call=None, tool_calls=None)"
      ]
     },
     "execution_count": 72,
     "metadata": {},
     "output_type": "execute_result"
    }
   ],
   "source": [
    "m = c.choices[0].message\n",
    "m"
   ]
  },
  {
   "cell_type": "code",
   "execution_count": 73,
   "id": "b9471526-a209-415c-91f0-e3eaecaed530",
   "metadata": {},
   "outputs": [],
   "source": [
    "# m = c.choices[1]\n",
    "# m"
   ]
  },
  {
   "cell_type": "code",
   "execution_count": null,
   "id": "e3ea4c54-4bc7-47be-bdb9-c556ea8241ee",
   "metadata": {},
   "outputs": [],
   "source": []
  },
  {
   "cell_type": "code",
   "execution_count": null,
   "id": "a4f0aa27-fd4e-4d0a-9e0b-a132994a9446",
   "metadata": {},
   "outputs": [],
   "source": []
  },
  {
   "cell_type": "code",
   "execution_count": null,
   "id": "8627cfd6-2b07-48cf-8562-f15048e30148",
   "metadata": {},
   "outputs": [],
   "source": []
  },
  {
   "cell_type": "code",
   "execution_count": null,
   "id": "bfbcb949-3002-4379-8f0e-b2a9b07b7abe",
   "metadata": {},
   "outputs": [],
   "source": []
  },
  {
   "cell_type": "code",
   "execution_count": null,
   "id": "964902bb-87d9-4fcf-9e23-d1b09fc83d1c",
   "metadata": {},
   "outputs": [],
   "source": []
  },
  {
   "cell_type": "code",
   "execution_count": null,
   "id": "e4a68af4-b706-4c2c-9db7-131c382a41e4",
   "metadata": {},
   "outputs": [],
   "source": []
  },
  {
   "cell_type": "code",
   "execution_count": null,
   "id": "88305775-63a6-4e90-8e4f-71b8107a49e7",
   "metadata": {},
   "outputs": [],
   "source": []
  },
  {
   "cell_type": "code",
   "execution_count": null,
   "id": "0fd00221-1a84-4a82-90c0-a4ee449965b5",
   "metadata": {},
   "outputs": [],
   "source": []
  }
 ],
 "metadata": {
  "kernelspec": {
   "display_name": "Python 3 (ipykernel)",
   "language": "python",
   "name": "python3"
  },
  "language_info": {
   "codemirror_mode": {
    "name": "ipython",
    "version": 3
   },
   "file_extension": ".py",
   "mimetype": "text/x-python",
   "name": "python",
   "nbconvert_exporter": "python",
   "pygments_lexer": "ipython3",
   "version": "3.10.11"
  }
 },
 "nbformat": 4,
 "nbformat_minor": 5
}
