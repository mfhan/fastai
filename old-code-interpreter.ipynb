{
 "cells": [
  {
   "cell_type": "code",
   "execution_count": 15,
   "id": "039f8f0f-78a1-4a53-8f9e-7d985950a647",
   "metadata": {
    "scrolled": true
   },
   "outputs": [
    {
     "name": "stdout",
     "output_type": "stream",
     "text": [
      "Requirement already satisfied: openai in /Users/mfhan/.pyenv/versions/3.10.11/lib/python3.10/site-packages (1.13.3)\n",
      "Requirement already satisfied: anyio<5,>=3.5.0 in /Users/mfhan/.pyenv/versions/3.10.11/lib/python3.10/site-packages (from openai) (3.7.1)\n",
      "Requirement already satisfied: distro<2,>=1.7.0 in /Users/mfhan/.pyenv/versions/3.10.11/lib/python3.10/site-packages (from openai) (1.8.0)\n",
      "Requirement already satisfied: httpx<1,>=0.23.0 in /Users/mfhan/.pyenv/versions/3.10.11/lib/python3.10/site-packages (from openai) (0.27.0)\n",
      "Requirement already satisfied: pydantic<3,>=1.9.0 in /Users/mfhan/.pyenv/versions/3.10.11/lib/python3.10/site-packages (from openai) (1.10.12)\n",
      "Requirement already satisfied: sniffio in /Users/mfhan/.pyenv/versions/3.10.11/lib/python3.10/site-packages (from openai) (1.3.0)\n",
      "Requirement already satisfied: tqdm>4 in /Users/mfhan/.pyenv/versions/3.10.11/lib/python3.10/site-packages (from openai) (4.65.0)\n",
      "Requirement already satisfied: typing-extensions<5,>=4.7 in /Users/mfhan/.pyenv/versions/3.10.11/lib/python3.10/site-packages (from openai) (4.10.0)\n",
      "Requirement already satisfied: idna>=2.8 in /Users/mfhan/.pyenv/versions/3.10.11/lib/python3.10/site-packages (from anyio<5,>=3.5.0->openai) (3.4)\n",
      "Requirement already satisfied: exceptiongroup in /Users/mfhan/.pyenv/versions/3.10.11/lib/python3.10/site-packages (from anyio<5,>=3.5.0->openai) (1.1.2)\n",
      "Requirement already satisfied: certifi in /Users/mfhan/.pyenv/versions/3.10.11/lib/python3.10/site-packages (from httpx<1,>=0.23.0->openai) (2023.5.7)\n",
      "Requirement already satisfied: httpcore==1.* in /Users/mfhan/.pyenv/versions/3.10.11/lib/python3.10/site-packages (from httpx<1,>=0.23.0->openai) (1.0.4)\n",
      "Requirement already satisfied: h11<0.15,>=0.13 in /Users/mfhan/.pyenv/versions/3.10.11/lib/python3.10/site-packages (from httpcore==1.*->httpx<1,>=0.23.0->openai) (0.14.0)\n",
      "\u001b[33mDEPRECATION: dexplot 0.1.4 has a non-standard dependency specifier scipy>=1.0matplotlib>=3.1. pip 24.1 will enforce this behaviour change. A possible replacement is to upgrade to a newer version of dexplot or contact the author to suggest that they release a version with a conforming dependency specifiers. Discussion can be found at https://github.com/pypa/pip/issues/12063\u001b[0m\u001b[33m\n",
      "\u001b[0m"
     ]
    }
   ],
   "source": [
    "!pip install openai"
   ]
  },
  {
   "cell_type": "code",
   "execution_count": 17,
   "id": "72af3d6b-d0af-4f35-8ef9-9744793a29c8",
   "metadata": {},
   "outputs": [],
   "source": [
    "import os"
   ]
  },
  {
   "cell_type": "code",
   "execution_count": 19,
   "id": "652ecdaf-3f84-46b3-87cd-61b9e26f9ab0",
   "metadata": {},
   "outputs": [],
   "source": [
    "from dotenv import load_dotenv"
   ]
  },
  {
   "cell_type": "code",
   "execution_count": 8,
   "id": "d181cee0-81f5-4bd0-8f9e-5afacaf7347a",
   "metadata": {},
   "outputs": [],
   "source": [
    "from openai import ChatCompletion,Completion"
   ]
  },
  {
   "cell_type": "code",
   "execution_count": 35,
   "id": "75ea7c34-c0b9-4d2a-9a1c-4686f758d573",
   "metadata": {},
   "outputs": [],
   "source": [
    "from fastcore.utils import nested_idx"
   ]
  },
  {
   "cell_type": "code",
   "execution_count": 11,
   "id": "825a2c63-84c9-4b00-93e7-f0bd815e9786",
   "metadata": {},
   "outputs": [],
   "source": [
    "from openai import OpenAI"
   ]
  },
  {
   "cell_type": "code",
   "execution_count": 21,
   "id": "af5f4ffd-7532-4fc3-b1dc-c233fbda2c15",
   "metadata": {},
   "outputs": [],
   "source": [
    "# from openai.types import ErrorObject, FunctionDefinition, FunctionParameters"
   ]
  },
  {
   "cell_type": "code",
   "execution_count": 22,
   "id": "7eeef0f3-cd47-466e-b770-cc462a8efb04",
   "metadata": {},
   "outputs": [],
   "source": [
    "# from openai.types.chat import (\n",
    "#     ChatCompletion,\n",
    "#     ChatCompletionAssistantMessageParam,\n",
    "#     ChatCompletionChunk,\n",
    "#     ChatCompletionContentPart,\n",
    "#     ChatCompletionContentPartImage,\n",
    "#     ChatCompletionContentPartText,\n",
    "#     ChatCompletionFunctionCallOption,\n",
    "#     ChatCompletionFunctionMessageParam,\n",
    "#     ChatCompletionMessage,\n",
    "#     ChatCompletionMessageParam,\n",
    "#     ChatCompletionMessageToolCall,\n",
    "#     ChatCompletionNamedToolChoice,\n",
    "#     ChatCompletionRole,\n",
    "#     ChatCompletionSystemMessageParam,\n",
    "#     ChatCompletionTokenLogprob,\n",
    "#     ChatCompletionTool,\n",
    "#     ChatCompletionToolChoiceOption,\n",
    "#     ChatCompletionToolMessageParam,\n",
    "#     ChatCompletionUserMessageParam,\n",
    "# )"
   ]
  },
  {
   "cell_type": "code",
   "execution_count": 1,
   "id": "d8d8dfef-12a1-4370-9273-4ff1317a054a",
   "metadata": {},
   "outputs": [],
   "source": [
    "from pydantic import create_model\n",
    "import inspect, json\n",
    "from inspect import Parameter"
   ]
  },
  {
   "cell_type": "code",
   "execution_count": 5,
   "id": "79a76c7b-9f0d-47dd-875c-393e7f3fa153",
   "metadata": {},
   "outputs": [],
   "source": [
    "import tokenize, ast\n",
    "from io import BytesIO"
   ]
  },
  {
   "cell_type": "code",
   "execution_count": 6,
   "id": "e77f9e57-b156-4446-9730-7403711d9fbc",
   "metadata": {
    "scrolled": true
   },
   "outputs": [
    {
     "data": {
      "text/plain": [
       "[7009, 527, 12786, 19587]"
      ]
     },
     "execution_count": 6,
     "metadata": {},
     "output_type": "execute_result"
    }
   ],
   "source": [
    "from tiktoken import encoding_for_model\n",
    "enc = encoding_for_model(\"gpt-3.5-turbo-instruct\")\n",
    "toks = enc.encode(\"They are splashing\")\n",
    "toks"
   ]
  },
  {
   "cell_type": "code",
   "execution_count": 7,
   "id": "b6ca8a0b-fd44-4d80-bc47-b5574fc759f7",
   "metadata": {},
   "outputs": [
    {
     "data": {
      "text/plain": [
       "['They', ' are', ' spl', 'ashing']"
      ]
     },
     "execution_count": 7,
     "metadata": {},
     "output_type": "execute_result"
    }
   ],
   "source": [
    "[enc.decode_single_token_bytes(o).decode('utf-8') for o in toks]"
   ]
  },
  {
   "cell_type": "code",
   "execution_count": 2,
   "id": "63563dbe-0a8f-40f3-92b3-f5e6cb7eb193",
   "metadata": {},
   "outputs": [],
   "source": [
    "def sums(a:int, b:int=1):\n",
    "    \"Adds a + b\"\n",
    "    return a + b"
   ]
  },
  {
   "cell_type": "code",
   "execution_count": 3,
   "id": "059cc9ef-fd29-44f4-9c5b-35b6b4892f5a",
   "metadata": {},
   "outputs": [],
   "source": [
    "def schema(f):\n",
    "    kw = {n:(o.annotation, ... if o.default==Parameter.empty else o.default)\n",
    "          for n,o in inspect.signature(f).parameters.items()}\n",
    "    s = create_model(f'Input for `{f.__name__}`', **kw).schema()\n",
    "    return dict(name=f.__name__, description=f.__doc__, parameters=s)"
   ]
  },
  {
   "cell_type": "code",
   "execution_count": 4,
   "id": "29588efa-0a9b-4539-b214-8d090b6b5b72",
   "metadata": {},
   "outputs": [
    {
     "data": {
      "text/plain": [
       "{'name': 'sums',\n",
       " 'description': 'Adds a + b',\n",
       " 'parameters': {'title': 'Input for `sums`',\n",
       "  'type': 'object',\n",
       "  'properties': {'a': {'title': 'A', 'type': 'integer'},\n",
       "   'b': {'title': 'B', 'default': 1, 'type': 'integer'}},\n",
       "  'required': ['a']}}"
      ]
     },
     "execution_count": 4,
     "metadata": {},
     "output_type": "execute_result"
    }
   ],
   "source": [
    "schema(sums)"
   ]
  },
  {
   "cell_type": "code",
   "execution_count": 23,
   "id": "060f66dd-ebe3-4407-aba5-1352ee722d96",
   "metadata": {},
   "outputs": [],
   "source": [
    "# coder_sys = \"You are an experienced software engineer with experience teaching students in a patient and engaging way, using concrete example as often as possible. You strive to keep your answers simple and short.\"\n",
    "# question=\"What is Google Vertex AI?\"\n",
    "# c = ChatCompletion.create(\n",
    "#     model=\"gpt-4\",\n",
    "#     messages=[{\"role\": \"system\", \"content\": coder_sys},\n",
    "#               {\"role\": \"user\", \"content\": question}])"
   ]
  },
  {
   "cell_type": "code",
   "execution_count": null,
   "id": "b2055a09-a9cc-4aa3-9192-a5cb10f1d789",
   "metadata": {},
   "outputs": [],
   "source": [
    "load_dotenv()\n",
    "\n",
    "# Retrieve the API key from environment variables\n",
    "api_key = os.getenv('OPENAI_API_KEY')\n",
    "\n",
    "# Use the API key to set up the OpenAI client\n",
    "openai.api_key = api_key\n",
    "\n",
    "# Now, you can use the `openai.Completion.create` method as before\n",
    "response = openai.Completion.create(\n",
    "    model=\"gpt-3.5-turbo\",\n",
    "    messages=[\n",
    "        {\"role\": \"system\", \"content\": \"You are an experienced software engineer with experience teaching students in a patient and engaging way, using concrete examples as often as possible. You strive to keep your answers simple and short.\"},\n",
    "        {\"role\": \"user\", \"content\": \"What is Google Vertex AI?\"},\n",
    "    ]\n",
    ")\n",
    "\n",
    "print(response)"
   ]
  },
  {
   "cell_type": "code",
   "execution_count": 29,
   "id": "5b97afdd-556d-4ebc-b97b-b8ba212c5f44",
   "metadata": {},
   "outputs": [],
   "source": [
    "from dotenv import load_dotenv\n",
    "import os\n",
    "import openai\n",
    "\n",
    "load_dotenv()\n",
    "\n",
    "# Retrieve the API key from environment variables\n",
    "# api_key = os.getenv('OPENAI_API_KEY')\n",
    "\n",
    "# Use the API key to set up the OpenAI client\n",
    "# openai.api_key = api_key\n",
    "\n",
    "#from https://github.com/openai/openai-python/discussions/742\n",
    "\n",
    "client = OpenAI(\n",
    "  api_key=os.environ['OPENAI_API_KEY']\n",
    ")\n",
    "\n",
    "coder = \"You are an experienced software engineer with experience teaching students in a patient and engaging way, using concrete example as often as possible. You strive to keep your answers simple and short.\"\n",
    "\n",
    "question=\"What is Google Vertex AI?\"\n",
    "\n",
    "chat = client.chat.completions.create(\n",
    "    messages=[\n",
    "        {\"role\": \"system\", \"content\": coder},\n",
    "        {\"role\": \"user\", \"content\": question}\n",
    "    ],\n",
    "    model=\"gpt-3.5-turbo\",\n",
    ")\n"
   ]
  },
  {
   "cell_type": "code",
   "execution_count": 30,
   "id": "9636c30c-087f-4492-bc0e-a0fe859ccc27",
   "metadata": {},
   "outputs": [
    {
     "data": {
      "text/plain": [
       "ChatCompletion(id='chatcmpl-99fcwfYKPsCJeCjZBzTxxTA2pRKbX', choices=[Choice(finish_reason='stop', index=0, logprobs=None, message=ChatCompletionMessage(content='Google Vertex AI is a machine learning platform that helps developers and data scientists to accelerate the deployment and maintenance of machine learning models. It provides tools and services for training, deploying, and managing machine learning models at scale.', role='assistant', function_call=None, tool_calls=None))], created=1712091994, model='gpt-3.5-turbo-0125', object='chat.completion', system_fingerprint='fp_b28b39ffa8', usage=CompletionUsage(completion_tokens=43, prompt_tokens=52, total_tokens=95))"
      ]
     },
     "execution_count": 30,
     "metadata": {},
     "output_type": "execute_result"
    }
   ],
   "source": [
    "chat"
   ]
  },
  {
   "cell_type": "code",
   "execution_count": 38,
   "id": "5d44e901-3a53-40d9-a1fe-b57062f8cae8",
   "metadata": {
    "scrolled": true
   },
   "outputs": [
    {
     "name": "stdout",
     "output_type": "stream",
     "text": [
      "ChatCompletion(id='chatcmpl-99fi5VBxTMXPeaYDL5S2HlvBvTdwZ', choices=[Choice(finish_reason='stop', index=0, logprobs=None, message=ChatCompletionMessage(content='Google Vertex AI is a unified platform provided by Google Cloud for machine learning development. It offers tools for the entire machine learning workflow, from dataset management to model training, prediction and explainability. This allows data scientists and machine learning engineers to easily create, test, deploy and scale AI models. Using Vertex AI, you can manage all your resources in one place and streamline the ML process.', role='assistant', function_call=None, tool_calls=None))], created=1712092313, model='gpt-4-0613', object='chat.completion', system_fingerprint=None, usage=CompletionUsage(completion_tokens=77, prompt_tokens=52, total_tokens=129))\n"
     ]
    }
   ],
   "source": [
    "from dotenv import load_dotenv\n",
    "import os\n",
    "import openai\n",
    "\n",
    "load_dotenv()\n",
    "\n",
    "client = OpenAI(\n",
    "  api_key=os.environ['OPENAI_API_KEY']\n",
    ")\n",
    "\n",
    "coder = \"You are an experienced software engineer with experience teaching students in a patient and engaging way, using concrete example as often as possible. You strive to keep your answers simple and short.\"\n",
    "\n",
    "question=\"What is Google Vertex AI?\"\n",
    "\n",
    "c= client.chat.completions.create(\n",
    "    model=\"gpt-4\",\n",
    "    messages=[\n",
    "        {\"role\": \"system\", \"content\": coder},\n",
    "        {\"role\": \"user\", \"content\": question}\n",
    "    ]\n",
    ")\n",
    "\n",
    "print(c)\n",
    "# response = c['choices'][0]['message']['content']"
   ]
  },
  {
   "cell_type": "code",
   "execution_count": 42,
   "id": "1fdd22de-e5e8-4982-8c3a-91fcf546e7d7",
   "metadata": {},
   "outputs": [
    {
     "ename": "AttributeError",
     "evalue": "'function' object has no attribute 'choices'",
     "output_type": "error",
     "traceback": [
      "\u001b[0;31m---------------------------------------------------------------------------\u001b[0m",
      "\u001b[0;31mAttributeError\u001b[0m                            Traceback (most recent call last)",
      "Cell \u001b[0;32mIn[42], line 1\u001b[0m\n\u001b[0;32m----> 1\u001b[0m message_content \u001b[38;5;241m=\u001b[39m \u001b[43mresponse\u001b[49m\u001b[38;5;241;43m.\u001b[39;49m\u001b[43mchoices\u001b[49m[\u001b[38;5;241m0\u001b[39m]\u001b[38;5;241m.\u001b[39mmessage\u001b[38;5;241m.\u001b[39mcontent\n",
      "\u001b[0;31mAttributeError\u001b[0m: 'function' object has no attribute 'choices'"
     ]
    }
   ],
   "source": [
    "message_content = response.choices[0].message.content"
   ]
  },
  {
   "cell_type": "code",
   "execution_count": 41,
   "id": "584519ad-a07d-41f0-ba55-0c3421cad574",
   "metadata": {},
   "outputs": [
    {
     "ename": "TypeError",
     "evalue": "'ChatCompletion' object is not subscriptable",
     "output_type": "error",
     "traceback": [
      "\u001b[0;31m---------------------------------------------------------------------------\u001b[0m",
      "\u001b[0;31mTypeError\u001b[0m                                 Traceback (most recent call last)",
      "Cell \u001b[0;32mIn[41], line 1\u001b[0m\n\u001b[0;32m----> 1\u001b[0m response \u001b[38;5;241m=\u001b[39m \u001b[43mc\u001b[49m\u001b[43m[\u001b[49m\u001b[38;5;124;43m'\u001b[39;49m\u001b[38;5;124;43mchoices\u001b[39;49m\u001b[38;5;124;43m'\u001b[39;49m\u001b[43m]\u001b[49m[\u001b[38;5;241m0\u001b[39m][\u001b[38;5;124m'\u001b[39m\u001b[38;5;124mmessage\u001b[39m\u001b[38;5;124m'\u001b[39m][\u001b[38;5;124m'\u001b[39m\u001b[38;5;124mcontent\u001b[39m\u001b[38;5;124m'\u001b[39m]\n",
      "\u001b[0;31mTypeError\u001b[0m: 'ChatCompletion' object is not subscriptable"
     ]
    }
   ],
   "source": [
    "response = c['choices'][0]['message']['content']"
   ]
  },
  {
   "cell_type": "code",
   "execution_count": 39,
   "id": "ab6a98c8-0c1a-4c48-9b77-6cbdb1318e4b",
   "metadata": {},
   "outputs": [],
   "source": [
    "def response(compl): print(nested_idx(compl, 'choices', 0, 'message', 'content'))"
   ]
  },
  {
   "cell_type": "code",
   "execution_count": 40,
   "id": "ffe920c2-a189-48d3-aec9-1805673fa4b8",
   "metadata": {
    "scrolled": true
   },
   "outputs": [
    {
     "name": "stdout",
     "output_type": "stream",
     "text": [
      "None\n"
     ]
    }
   ],
   "source": [
    "response(c)"
   ]
  },
  {
   "cell_type": "code",
   "execution_count": null,
   "id": "ca3492e2-d645-49da-a55e-639e2a3cd078",
   "metadata": {},
   "outputs": [],
   "source": [
    "from dotenv import load_dotenv\n",
    "import os\n",
    "import openai\n",
    "\n",
    "load_dotenv()\n",
    "\n",
    "client = OpenAI(\n",
    "  api_key=os.environ['OPENAI_API_KEY']\n",
    ")\n",
    "\n",
    "coder = \"You are an experienced software engineer with experience teaching students in a patient and engaging way, using concrete example as often as possible. You strive to keep your answers simple and short.\"\n",
    "\n",
    "question=\"What is Google Vertex AI?\"\n",
    "\n",
    "c = client.chat.completions.create(\n",
    "    model=\"gpt-4\",\n",
    "    messages=[\n",
    "        {\"role\": \"system\", \"content\": coder},\n",
    "        {\"role\": \"user\", \"content\": question}\n",
    "    ]\n",
    ")\n",
    "\n",
    "print(c)"
   ]
  },
  {
   "cell_type": "code",
   "execution_count": 43,
   "id": "37da143d-a44f-4dff-a03e-dea236721a4a",
   "metadata": {},
   "outputs": [
    {
     "name": "stdout",
     "output_type": "stream",
     "text": [
      "Google Vertex AI is a unified platform provided by Google Cloud for machine learning development. It offers tools for the entire machine learning workflow, from dataset management to model training, prediction and explainability. This allows data scientists and machine learning engineers to easily create, test, deploy and scale AI models. Using Vertex AI, you can manage all your resources in one place and streamline the ML process.\n"
     ]
    }
   ],
   "source": [
    "try:\n",
    "    # Accessing the 'choices' list and then the first item's 'message' attribute\n",
    "    # Finally, getting the 'content' of the message\n",
    "    response_content = c.choices[0].message.content\n",
    "except AttributeError as e:\n",
    "    # If there's an error accessing the attributes, it will be caught here\n",
    "    print(f\"An error occurred: {e}\")\n",
    "\n",
    "print(response_content)"
   ]
  },
  {
   "cell_type": "code",
   "execution_count": null,
   "id": "53dd2957-94e9-481a-b8f7-7f6d0e6634a8",
   "metadata": {},
   "outputs": [],
   "source": []
  },
  {
   "cell_type": "code",
   "execution_count": 44,
   "id": "d5d9a769-c456-478a-b791-03bc9b4be632",
   "metadata": {},
   "outputs": [],
   "source": [
    "# question=\"What is Google Vertex AI?\""
   ]
  },
  {
   "cell_type": "code",
   "execution_count": 45,
   "id": "b34c9fe2-d8f4-4429-8f07-da6be61013e1",
   "metadata": {},
   "outputs": [
    {
     "ename": "TypeError",
     "evalue": "'ChatCompletion' object is not subscriptable",
     "output_type": "error",
     "traceback": [
      "\u001b[0;31m---------------------------------------------------------------------------\u001b[0m",
      "\u001b[0;31mTypeError\u001b[0m                                 Traceback (most recent call last)",
      "Cell \u001b[0;32mIn[45], line 1\u001b[0m\n\u001b[0;32m----> 1\u001b[0m \u001b[43mc\u001b[49m\u001b[43m[\u001b[49m\u001b[38;5;124;43m'\u001b[39;49m\u001b[38;5;124;43mchoices\u001b[39;49m\u001b[38;5;124;43m'\u001b[39;49m\u001b[43m]\u001b[49m[\u001b[38;5;241m0\u001b[39m][\u001b[38;5;124m'\u001b[39m\u001b[38;5;124mmessage\u001b[39m\u001b[38;5;124m'\u001b[39m][\u001b[38;5;124m'\u001b[39m\u001b[38;5;124mcontent\u001b[39m\u001b[38;5;124m'\u001b[39m]\n",
      "\u001b[0;31mTypeError\u001b[0m: 'ChatCompletion' object is not subscriptable"
     ]
    }
   ],
   "source": []
  },
  {
   "cell_type": "code",
   "execution_count": null,
   "id": "35f141c8-07bc-48bc-8524-695aa6e6e1d3",
   "metadata": {},
   "outputs": [],
   "source": [
    "def askgpt(user, system=None, model=\"gpt-4\", **kwargs):\n",
    "    msgs = []\n",
    "    if system: msgs.append({\"role\": \"system\", \"content\": system})\n",
    "    msgs.append({\"role\": \"user\", \"content\": user})\n",
    "    return ChatCompletion.create(model=model, messages=msgs, **kwargs)"
   ]
  },
  {
   "cell_type": "code",
   "execution_count": null,
   "id": "34a53657-e0b5-49a3-98ee-d654c0bab135",
   "metadata": {},
   "outputs": [],
   "source": []
  },
  {
   "cell_type": "code",
   "execution_count": null,
   "id": "19c71bf8-4f16-4235-a029-042a36c90eae",
   "metadata": {},
   "outputs": [],
   "source": []
  },
  {
   "cell_type": "code",
   "execution_count": null,
   "id": "b9471526-a209-415c-91f0-e3eaecaed530",
   "metadata": {},
   "outputs": [],
   "source": []
  },
  {
   "cell_type": "code",
   "execution_count": null,
   "id": "964902bb-87d9-4fcf-9e23-d1b09fc83d1c",
   "metadata": {},
   "outputs": [],
   "source": []
  }
 ],
 "metadata": {
  "kernelspec": {
   "display_name": "Python 3 (ipykernel)",
   "language": "python",
   "name": "python3"
  },
  "language_info": {
   "codemirror_mode": {
    "name": "ipython",
    "version": 3
   },
   "file_extension": ".py",
   "mimetype": "text/x-python",
   "name": "python",
   "nbconvert_exporter": "python",
   "pygments_lexer": "ipython3",
   "version": "3.10.11"
  }
 },
 "nbformat": 4,
 "nbformat_minor": 5
}
